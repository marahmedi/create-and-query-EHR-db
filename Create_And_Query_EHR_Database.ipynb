{
 "cells": [
  {
   "cell_type": "code",
   "execution_count": 1,
   "id": "909cc993",
   "metadata": {},
   "outputs": [],
   "source": [
    "import pandas as pd\n",
    "import pandas.io.sql as sqlio\n",
    "import psycopg2 as ps\n",
    "import os"
   ]
  },
  {
   "cell_type": "code",
   "execution_count": 2,
   "id": "a770ca80",
   "metadata": {},
   "outputs": [],
   "source": [
    "\n",
    "conn = ps.connect(\n",
    "    host=\"localhost\",\n",
    "    port=\"5432\",\n",
    "    database=\"healthrecords\",\n",
    "    user=\"postgres\",\n",
    "    password='password'\n",
    ")\n",
    "\n",
    "# Create a cursor object\n",
    "cur = conn.cursor()\n"
   ]
  },
  {
   "cell_type": "code",
   "execution_count": 3,
   "id": "11b40b3d",
   "metadata": {},
   "outputs": [],
   "source": [
    "# Function that creates a table in the database to store the following patient information:\n",
    "# social security number, name, address, email, phonenumber and insurance ID as column headers.\n",
    "\n",
    "def create_table(table_name, conn, cursor):\n",
    "    try:\n",
    "        query = \"CREATE TABLE \" + table_name + \"\"\"(\n",
    "                    SSN integer PRIMARY KEY,\n",
    "                    Name VARCHAR(50) NOT NULL,\n",
    "                    Address VARCHAR(200) NOT NULL,\n",
    "                    Email VARCHAR(100) NOT NULL,\n",
    "                    Phone VARCHAR(100) NOT NULL,\n",
    "                    Insurance_id integer\n",
    "                    )\"\"\"\n",
    "        cursor.execute(query)\n",
    "        conn.commit()\n",
    "    except ps.Error as e:\n",
    "        conn.rollback()  # Rollback the transaction in case of an error\n",
    "        print(\"Error:\", e)\n"
   ]
  },
  {
   "cell_type": "code",
   "execution_count": 4,
   "id": "085b2ff0",
   "metadata": {},
   "outputs": [
    {
     "name": "stdout",
     "output_type": "stream",
     "text": [
      "Error: relation \"patients\" already exists\n",
      "\n"
     ]
    }
   ],
   "source": [
    "create_table('patients', conn, cur)"
   ]
  },
  {
   "cell_type": "code",
   "execution_count": 4,
   "id": "40ce0264",
   "metadata": {},
   "outputs": [],
   "source": [
    "# Function to insert a patient into the table\n",
    "def insert_patient(table_name, ssn, name, address, email, phone, insurance_id):\n",
    "    try:\n",
    "        query = f\"INSERT INTO {table_name}(ssn, name, address, email, phone, insurance_id) VALUES({ssn}, '{name}', '{address}', '{email}', '{phone}', {insurance_id})\"\n",
    "        cur.execute(query)\n",
    "        conn.commit()\n",
    "    except ps.Error as e:\n",
    "        conn.rollback()\n",
    "        print(\"Error: \", e)"
   ]
  },
  {
   "cell_type": "code",
   "execution_count": 5,
   "id": "8a2f38d1",
   "metadata": {},
   "outputs": [
    {
     "name": "stdout",
     "output_type": "stream",
     "text": [
      "Error:  duplicate key value violates unique constraint \"patients_pkey\"\n",
      "DETAIL:  Key (ssn)=(123343434) already exists.\n",
      "\n"
     ]
    }
   ],
   "source": [
    "insert_patient('patients', 123343434, \"John Smith\", \"123 Main st\", \"someting@email.com\", \"1234567890\", 1234567890)"
   ]
  },
  {
   "cell_type": "code",
   "execution_count": 6,
   "id": "bd7209b4",
   "metadata": {},
   "outputs": [],
   "source": [
    "import names\n",
    "import random\n",
    "from random_address import real_random_address\n",
    "            \n",
    "        "
   ]
  },
  {
   "cell_type": "code",
   "execution_count": 7,
   "id": "731593b8",
   "metadata": {},
   "outputs": [],
   "source": [
    "def create_test_sample(n):\n",
    "    def rand_ssn(n):\n",
    "        SSN_list = []\n",
    "        for i in range(n):\n",
    "            r = random.random()\n",
    "            random_SSN = '{:.15f}'.format(r)  # random num between 0 & 1 to 15dp\n",
    "            random_10_digits = random_SSN[-10:] # getting the last 10 digits of the random number\n",
    "            SSN = random_10_digits\n",
    "            SSN_list.append(int(SSN))\n",
    "        return SSN_list\n",
    "    \n",
    "    def rand_full_name(n):\n",
    "        full_name_list = []\n",
    "        for i in range(n):\n",
    "            name = names.get_full_name()\n",
    "            full_name_list.append(name)\n",
    "        return full_name_list\n",
    "    \n",
    "    def random_phone_number(n):\n",
    "        phone_numbers_list = []\n",
    "        for i in range(n):\n",
    "            r = random.random()\n",
    "            random_time = '{:.15f}'.format(r)  # creates random number between 0 and 1\n",
    "            random_10_digits = random_time[-10:]\n",
    "            phone_number = \"07\" + random_10_digits\n",
    "            phone_numbers_list.append(str(phone_number))\n",
    "        return phone_numbers_list\n",
    "    \n",
    "    def random_real_address(n):\n",
    "        address_list = []\n",
    "        for i in range(n):\n",
    "            address = real_random_address()\n",
    "            address_list.append(address['address1'])\n",
    "        return address_list\n",
    "        \n",
    "\n",
    "    def e_mail_generator(list_of_names):\n",
    "        e_mail_list = []\n",
    "        for i in list_of_names:\n",
    "            name = i\n",
    "            e_mail_list.append(name.split(\" \")[0] + \"@emailaddress.com\")\n",
    "        return e_mail_list\n",
    "    \n",
    "    def random_insuranceid(n):\n",
    "        insuranceid_list = []\n",
    "        for i in range(n):\n",
    "            r = random.random()\n",
    "            random_nr = '{:.15f}'.format(r)   # creates random number between 0 and 1\n",
    "            random_10_digits = random_nr[-10:]\n",
    "            insuranceid = random_10_digits\n",
    "            insuranceid_list.append(int(insuranceid))\n",
    "        return insuranceid_list\n",
    "    \n",
    "    SSN_list = rand_ssn(n)\n",
    "    name_list = rand_full_name(n)\n",
    "    address_list = random_real_address(n)\n",
    "    e_mail_list = e_mail_generator(name_list)\n",
    "    phone_number_list = random_phone_number(n)\n",
    "    insuranceid_list = random_insuranceid(n)\n",
    "    \n",
    "    # CHECK IF ALL LISTS ARE SAME LENGTH\n",
    "\n",
    "    for i in [SSN_list, name_list, address_list, e_mail_list, phone_number_list, insuranceid_list]:\n",
    "        if len(i) == n:\n",
    "            pass\n",
    "        else:\n",
    "            raise Exception(\"length lists not equal\")\n",
    "            \n",
    "    #PRINT FIRST RECORDS OF TEST SAMPLE\n",
    "    #print(\"TEST SAMPLE COMPLETED, FIRST TWO RECORDS =\")\n",
    "    #for i in range(10):\n",
    "        #print(SSN_list[i], name_list[i], address_list[i], e_mail_list[i], phone_number_list[i], insuranceid_list[i])\n",
    "    \n",
    "    print(\"\")\n",
    "    print(\"STARTING WITH POPULATING DATABASE\")\n",
    "    for i in range(n):\n",
    "        insert_patient(\"Patients\", SSN_list[i], name_list[i], address_list[i], e_mail_list[i], phone_number_list[i], insuranceid_list[i])\n",
    "\n",
    "    print(\"\")\n",
    "    print(\"POPULATION COMPLETED\")\n",
    "    print(\"\")\n"
   ]
  },
  {
   "cell_type": "code",
   "execution_count": null,
   "id": "089f8f68",
   "metadata": {},
   "outputs": [],
   "source": [
    "# populating the patients database with 1000 patients\n",
    "create_test_sample(1000)"
   ]
  },
  {
   "cell_type": "code",
   "execution_count": 8,
   "id": "46d0dbaf",
   "metadata": {},
   "outputs": [
    {
     "name": "stdout",
     "output_type": "stream",
     "text": [
      "             0                    1                              2  \\\n",
      "0    123343434           John Smith                    123 Main st   \n",
      "1    128494285         Dallas Prado         46 Sugarloaf Hill Road   \n",
      "2   1306029517         Ruth Burnham           2186 Knollwood Drive   \n",
      "3    316957549         Tommy Thomas             1215 Joseph Avenue   \n",
      "4   1624625131     Elizabeth Hooper              1772 150th Avenue   \n",
      "5    453332955         Donald Moore  467 North Mountain Ranch Road   \n",
      "6    758094984       Gregory Franco            105 Inglewood Drive   \n",
      "7    601113569           Sarah Dunn                 301 East Court   \n",
      "8    211118215         Tony Sawyers            6755 Mulberry Drive   \n",
      "9    468149756         Lisa Simmons               136 Acacia Drive   \n",
      "10  1875491657        Edgar Nolasco     3516 North Virginia Avenue   \n",
      "11  1143106513   Antoinette Jackson           20270 Andover Avenue   \n",
      "12   958689067         Julius Vella       165 New Hampshire Avenue   \n",
      "13  1987834508      Octavia Winston     2036 Hermitage Hills Drive   \n",
      "14  1177413525         Tyrone Sneed              904 Walthour Road   \n",
      "15  1417595297     Jennifer Juckett              1841 Logan Street   \n",
      "16   251029021     Terrell Gonzalez              6463 Vrain Street   \n",
      "17  1763327742         Clarence Orr           5403 Illinois Avenue   \n",
      "18  1055661013           Paul Jones     5112 Southwest 124th Place   \n",
      "19   262654181         Lillian Doby             17615 Center Drive   \n",
      "20  1618399210        Richard Gould            26 Greenbriar Drive   \n",
      "21   105433306          Jacob Sharp               798 Airport Road   \n",
      "22   663048337      Heather Johnson                2068 Happy Lane   \n",
      "23  1724429980      Richard Battles             214 South End Road   \n",
      "24    27470200        David William      2278 North Windswept Lane   \n",
      "25  1644595907          Jason Jones       1931 Beauvoir Lake Drive   \n",
      "26   153025385       Billy Campbell              17 Gregory Street   \n",
      "27  1461492673    Margaret Bramlett                61 Cubles Drive   \n",
      "28  1929965555     Michelle Stewart     22709 Canyon Terrace Drive   \n",
      "29   990265728       Jimmie Collins              7809 Highway 2302   \n",
      "30  1671336102         Jeffery Kerr           1261 Steamboat Drive   \n",
      "31  2108002849  Christopher Cambell         1931 West Deane Street   \n",
      "32   391311973      Harold Townsend              3027 Badger Drive   \n",
      "33   968457232      Jeanette Bryant      11113 North Miller Avenue   \n",
      "34  1036678113        Rosa Lombardi                737 Nelson Road   \n",
      "35  1376131248       Melissa Morris       5370 Business Park Drive   \n",
      "36  1020834336      Robert Gonzalez          534 North 31st Street   \n",
      "37  1365139542      Roger Lindquist              56 Gardner Street   \n",
      "38  1864244538        Mary Montalto                    68 Route 66   \n",
      "39   680484261    Cristine Hamilton              5 Hibiscus Avenue   \n",
      "40   635540860  Josephine Hendricks             2436 Naples Avenue   \n",
      "41    20435690        Mary Ferguson            4809 Trappers Ridge   \n",
      "42  1628779616       Michael Patton  702 Farragut Street Northwest   \n",
      "43  1463134902          Kent Miller            5420 Allison Street   \n",
      "44  1700313920          Diann Grady               16 Fuller Street   \n",
      "45   883845389    Stephanie Cameron         7326 North 62nd Avenue   \n",
      "46  1133820672       Matthew Hickey           7095 Gladiola Street   \n",
      "47  1162421451      Robert Williams             110 Elmwood Avenue   \n",
      "\n",
      "                               3             4           5  \n",
      "0             someting@email.com    1234567890  1234567890  \n",
      "1        Dallas@emailaddress.com  075090876400  2070722123  \n",
      "2          Ruth@emailaddress.com  070538154074  1443364608  \n",
      "3         Tommy@emailaddress.com  079645142249  1646315508  \n",
      "4     Elizabeth@emailaddress.com  075909882130   569803456  \n",
      "5        Donald@emailaddress.com  073952952375   298169297  \n",
      "6       Gregory@emailaddress.com  071570053979   301957689  \n",
      "7         Sarah@emailaddress.com  070559320438   809826788  \n",
      "8          Tony@emailaddress.com  074533547714  1214806819  \n",
      "9          Lisa@emailaddress.com  079486935787  1388589841  \n",
      "10        Edgar@emailaddress.com  077153923687   669438156  \n",
      "11   Antoinette@emailaddress.com  073009972654  2089464693  \n",
      "12       Julius@emailaddress.com  072768664446  1218302076  \n",
      "13      Octavia@emailaddress.com  075370770667  2009601707  \n",
      "14       Tyrone@emailaddress.com  070918791105    71840618  \n",
      "15     Jennifer@emailaddress.com  072758780378   839541471  \n",
      "16      Terrell@emailaddress.com  076758261895  1839390814  \n",
      "17     Clarence@emailaddress.com  073256987437  2074390676  \n",
      "18         Paul@emailaddress.com  074461224113   921863236  \n",
      "19      Lillian@emailaddress.com  077936376615  1457521443  \n",
      "20      Richard@emailaddress.com  070734087875  1434366910  \n",
      "21        Jacob@emailaddress.com  070802436217  2017739861  \n",
      "22      Heather@emailaddress.com  079909293835   665436277  \n",
      "23      Richard@emailaddress.com  073997226023    15765542  \n",
      "24        David@emailaddress.com  071029814999    24785977  \n",
      "25        Jason@emailaddress.com  075566621309  1867054559  \n",
      "26        Billy@emailaddress.com  073798057442  1133028473  \n",
      "27     Margaret@emailaddress.com  077918431804  1484916746  \n",
      "28     Michelle@emailaddress.com  070212621657   698389840  \n",
      "29       Jimmie@emailaddress.com  076325489630   950565325  \n",
      "30      Jeffery@emailaddress.com  071155465185  2018535184  \n",
      "31  Christopher@emailaddress.com  074252667668  2035968461  \n",
      "32       Harold@emailaddress.com  074874757689   139967085  \n",
      "33     Jeanette@emailaddress.com  077117953536  1279094451  \n",
      "34         Rosa@emailaddress.com  076692277376  1414032624  \n",
      "35      Melissa@emailaddress.com  077808529274  1040480725  \n",
      "36       Robert@emailaddress.com  071657601310   180924048  \n",
      "37        Roger@emailaddress.com  073845349085  1805435557  \n",
      "38         Mary@emailaddress.com  077750240373   765381967  \n",
      "39     Cristine@emailaddress.com  076943099027   979978608  \n",
      "40    Josephine@emailaddress.com  079064055344   819452346  \n",
      "41         Mary@emailaddress.com  078805825753  1131715747  \n",
      "42      Michael@emailaddress.com  072013529311   340801331  \n",
      "43         Kent@emailaddress.com  071523704814   743365351  \n",
      "44        Diann@emailaddress.com  079825389172   751878056  \n",
      "45    Stephanie@emailaddress.com  071989123175   301796172  \n",
      "46      Matthew@emailaddress.com  070901395801   337563091  \n",
      "47       Robert@emailaddress.com  075468270301   496033964  \n"
     ]
    }
   ],
   "source": [
    "#Putting all our data into a dataframe for viewing\n",
    "\n",
    "table_name=\"Patients\"\n",
    "query = \"\"\"SELECT * FROM \"\"\"+table_name\n",
    "cur.execute(query)\n",
    "df = pd.DataFrame(cur.fetchall())\n",
    "print(df)\n",
    "    "
   ]
  },
  {
   "cell_type": "code",
   "execution_count": 9,
   "id": "85c74ed5",
   "metadata": {},
   "outputs": [],
   "source": [
    "# Function to find a patient\n",
    "\n",
    "def find_a_patient(patient_full_name, table_name):\n",
    "    query = f\"SELECT * FROM {table_name} WHERE name = '{patient_full_name}'\"\n",
    "    print(query)\n",
    "    cur.execute(query)\n",
    "    row = cur.fetchone() # returns single row if available and None if not\n",
    "    if row == None:\n",
    "        print('No patient found')\n",
    "        return\n",
    "    else:\n",
    "        print(f\"SSN number for {patient_full_name}: {row[0]}\")"
   ]
  },
  {
   "cell_type": "code",
   "execution_count": 10,
   "id": "6ded606c",
   "metadata": {},
   "outputs": [
    {
     "name": "stdout",
     "output_type": "stream",
     "text": [
      "SELECT * FROM patients WHERE name = 'Dallas Prado'\n",
      "SSN number for Dallas Prado: 128494285\n"
     ]
    }
   ],
   "source": [
    "find_a_patient('Dallas Prado', 'patients')"
   ]
  },
  {
   "cell_type": "code",
   "execution_count": 11,
   "id": "e3239d08",
   "metadata": {},
   "outputs": [],
   "source": [
    "#Finding a ptient from their adrress\n",
    "def find_patient_from_address(address, table_name):\n",
    "    query = f\"SELECT * FROM {table_name} WHERE address = '{address}'\"\n",
    "    cur.execute(query)\n",
    "    row = cur.fetchone() # returns single row if available and None if not\n",
    "    if row == None:\n",
    "        print('No patient found')\n",
    "        return\n",
    "    else:\n",
    "        print(f\"This address is for: {row[1]}\")"
   ]
  },
  {
   "cell_type": "code",
   "execution_count": 12,
   "id": "c9949e0c",
   "metadata": {},
   "outputs": [
    {
     "name": "stdout",
     "output_type": "stream",
     "text": [
      "This address is for: Mary Montalto\n"
     ]
    }
   ],
   "source": [
    "find_patient_from_address('68 Route 66', 'patients')"
   ]
  },
  {
   "cell_type": "code",
   "execution_count": 13,
   "id": "a30088b9",
   "metadata": {},
   "outputs": [],
   "source": [
    "def find_patient_from_last_name(last_name, table_name):\n",
    "    query = f\"SELECT * FROM {table_name} WHERE name LIKE '%{last_name}'\"\n",
    "    cur.execute(query)\n",
    "    row = cur.fetchone() # returns single row if available and None if not\n",
    "    if row == None:\n",
    "        print('No patient found')\n",
    "        return\n",
    "    else:\n",
    "        print(f\"Full name: {row[1]}\\nSSN: {row[0]}\")"
   ]
  },
  {
   "cell_type": "code",
   "execution_count": 14,
   "id": "deb61056",
   "metadata": {},
   "outputs": [
    {
     "name": "stdout",
     "output_type": "stream",
     "text": [
      "Full name: Edgar Nolasco\n",
      "SSN: 1875491657\n"
     ]
    }
   ],
   "source": [
    "find_patient_from_last_name('Nolasco', 'patients')"
   ]
  },
  {
   "cell_type": "code",
   "execution_count": 15,
   "id": "f7079542",
   "metadata": {},
   "outputs": [
    {
     "name": "stdout",
     "output_type": "stream",
     "text": [
      "            0                 1                              2  \\\n",
      "0   123343434        John Smith                    123 Main st   \n",
      "1   128494285      Dallas Prado         46 Sugarloaf Hill Road   \n",
      "2  1306029517      Ruth Burnham           2186 Knollwood Drive   \n",
      "3   316957549      Tommy Thomas             1215 Joseph Avenue   \n",
      "4  1624625131  Elizabeth Hooper              1772 150th Avenue   \n",
      "5   453332955      Donald Moore  467 North Mountain Ranch Road   \n",
      "6   758094984    Gregory Franco            105 Inglewood Drive   \n",
      "7   601113569        Sarah Dunn                 301 East Court   \n",
      "8   211118215      Tony Sawyers            6755 Mulberry Drive   \n",
      "9   468149756      Lisa Simmons               136 Acacia Drive   \n",
      "\n",
      "                            3             4           5  \n",
      "0          someting@email.com    1234567890  1234567890  \n",
      "1     Dallas@emailaddress.com  075090876400  2070722123  \n",
      "2       Ruth@emailaddress.com  070538154074  1443364608  \n",
      "3      Tommy@emailaddress.com  079645142249  1646315508  \n",
      "4  Elizabeth@emailaddress.com  075909882130   569803456  \n",
      "5     Donald@emailaddress.com  073952952375   298169297  \n",
      "6    Gregory@emailaddress.com  071570053979   301957689  \n",
      "7      Sarah@emailaddress.com  070559320438   809826788  \n",
      "8       Tony@emailaddress.com  074533547714  1214806819  \n",
      "9       Lisa@emailaddress.com  079486935787  1388589841  \n"
     ]
    }
   ],
   "source": [
    "print(df.head(10)) #prints first 10 patients in data frame"
   ]
  },
  {
   "cell_type": "code",
   "execution_count": 16,
   "id": "8467d76b",
   "metadata": {},
   "outputs": [
    {
     "name": "stdout",
     "output_type": "stream",
     "text": [
      "0     int64\n",
      "1    object\n",
      "2    object\n",
      "3    object\n",
      "4    object\n",
      "5     int64\n",
      "dtype: object\n"
     ]
    }
   ],
   "source": [
    "print(df.dtypes) #prints datatypes of each column"
   ]
  },
  {
   "cell_type": "code",
   "execution_count": 17,
   "id": "95ae3443",
   "metadata": {},
   "outputs": [
    {
     "name": "stdout",
     "output_type": "stream",
     "text": [
      "RangeIndex(start=0, stop=6, step=1)\n"
     ]
    }
   ],
   "source": [
    "print(df.columns) # column range"
   ]
  },
  {
   "cell_type": "code",
   "execution_count": 18,
   "id": "22564c77",
   "metadata": {},
   "outputs": [
    {
     "name": "stdout",
     "output_type": "stream",
     "text": [
      "48 6\n"
     ]
    }
   ],
   "source": [
    "print(df.shape[0], df.shape[1]) # size of dataframe 48 rows and 6 columns"
   ]
  },
  {
   "cell_type": "code",
   "execution_count": 19,
   "id": "9e2e0fc7",
   "metadata": {},
   "outputs": [
    {
     "name": "stdout",
     "output_type": "stream",
     "text": [
      "Please enter the patient's full nameJohn Smith\n"
     ]
    }
   ],
   "source": [
    "user_input_name = input('Please enter the patient\\'s full name')\n"
   ]
  },
  {
   "cell_type": "code",
   "execution_count": 20,
   "id": "efd868d6",
   "metadata": {},
   "outputs": [],
   "source": [
    "def user_search(name):\n",
    "    for index, row in df.iterrows():\n",
    "        if row[1] == name:\n",
    "            patient_name = row[1]\n",
    "            patient_ssn = row[0]\n",
    "            patient_address = row[2]\n",
    "            patient_email = row[3]\n",
    "            patient_number = row[4]\n",
    "            patient_insuranceid = row[5]\n",
    "    print(patient_name, patient_ssn, patient_address, patient_email, patient_number, patient_insuranceid)"
   ]
  },
  {
   "cell_type": "code",
   "execution_count": 21,
   "id": "4f9f0c73",
   "metadata": {},
   "outputs": [
    {
     "name": "stdout",
     "output_type": "stream",
     "text": [
      "John Smith 123343434 123 Main st someting@email.com 1234567890 1234567890\n"
     ]
    }
   ],
   "source": [
    "user_search(user_input_name)"
   ]
  },
  {
   "cell_type": "code",
   "execution_count": 22,
   "id": "97be55a1",
   "metadata": {},
   "outputs": [],
   "source": [
    "def editDistance(str1, str2, m, n):\n",
    "\n",
    "    # If first string is empty, the only option is to\n",
    "    # insert all characters of second string into first\n",
    "    if m == 0:\n",
    "        return n\n",
    "\n",
    "    # If second string is empty, the only option is to\n",
    "    # remove all characters of first string\n",
    "    if n == 0:\n",
    "        return m\n",
    "\n",
    "    # If last characters of two strings are same, nothing\n",
    "    # much to do. Ignore last characters and get count for\n",
    "    # remaining strings.\n",
    "    if str1[m-1] == str2[n-1]:\n",
    "        return editDistance(str1, str2, m-1, n-1)\n",
    "\n",
    "    # If last characters are not same, consider all three\n",
    "    # operations on last character of first string, recursively\n",
    "    # compute minimum cost for all three operations and take\n",
    "    # minimum of three values.\n",
    "    return 1 + min(editDistance(str1, str2, m, n-1),    # Insert\n",
    "                   editDistance(str1, str2, m-1, n),    # Remove\n",
    "                   editDistance(str1, str2, m-1, n-1)    # Replace\n",
    "                   )\n"
   ]
  },
  {
   "cell_type": "code",
   "execution_count": 25,
   "id": "8aeed517",
   "metadata": {},
   "outputs": [
    {
     "name": "stdout",
     "output_type": "stream",
     "text": [
      "Who do you want to search for? johnny\n"
     ]
    }
   ],
   "source": [
    "given_name = input('Who do you want to search for? ')\n",
    "\n",
    "def find_closest_name(given_name):\n",
    "    for index, row in df.iterrows():\n",
    "        min_distance = float('Inf')\n",
    "        db_name = str(row[1])\n",
    "        distance = editDistance(given_name, db_name, len(given_name), len(db_name))\n",
    "        if distance < min_distance:\n",
    "            min_distance = distance\n",
    "            chosen_name = row[1]\n",
    "            chosen_name_email = row[3]\n",
    "    \n",
    "    print('Patient name is: ' + chosen_name + ' and you can contact them here: ' + chosen_name_email)"
   ]
  },
  {
   "cell_type": "code",
   "execution_count": 26,
   "id": "22cdea18",
   "metadata": {},
   "outputs": [
    {
     "name": "stdout",
     "output_type": "stream",
     "text": [
      "Patient name is: Robert Williams and you can contact them here: Robert@emailaddress.com\n"
     ]
    }
   ],
   "source": [
    "find_closest_name(given_name)"
   ]
  },
  {
   "cell_type": "code",
   "execution_count": null,
   "id": "896d8b4c",
   "metadata": {},
   "outputs": [],
   "source": []
  }
 ],
 "metadata": {
  "kernelspec": {
   "display_name": "Python 3 (ipykernel)",
   "language": "python",
   "name": "python3"
  },
  "language_info": {
   "codemirror_mode": {
    "name": "ipython",
    "version": 3
   },
   "file_extension": ".py",
   "mimetype": "text/x-python",
   "name": "python",
   "nbconvert_exporter": "python",
   "pygments_lexer": "ipython3",
   "version": "3.9.13"
  }
 },
 "nbformat": 4,
 "nbformat_minor": 5
}
